{
 "cells": [
  {
   "cell_type": "code",
   "execution_count": 72,
   "id": "taken-bicycle",
   "metadata": {},
   "outputs": [],
   "source": [
    "import nltk\n",
    "import pandas as pd\n",
    "import numpy as np\n",
    "from sklearn.metrics.pairwise import cosine_similarity\n",
    "import matplotlib.pyplot as plt\n",
    "import re\n",
    "import seaborn as sns\n",
    "import functools as ft"
   ]
  },
  {
   "cell_type": "markdown",
   "id": "5d193965-38bd-418e-973f-70c806b774d4",
   "metadata": {},
   "source": [
    "## Sentences and Vector Models"
   ]
  },
  {
   "cell_type": "code",
   "execution_count": 4,
   "id": "serious-xerox",
   "metadata": {},
   "outputs": [],
   "source": [
    "STOP = set(nltk.corpus.stopwords.words(\"english\"))\n",
    "#STOP = set(\"\")\n",
    "\n",
    "class Sentence:\n",
    "    #text = re.sub(r\"[^A-Za-z0-9^,!.\\/'+-=]\", \" \", text)\n",
    "    #text = re.sub(r\"\\s{2,}\", \" \", text)\n",
    "    \n",
    "    def __init__(self, sentence, scy):\n",
    "        self.raw = sentence\n",
    "        normalized_sentence = sentence.replace(\"‘\", \"'\").replace(\"’\", \"'\")\n",
    "        #self.tokens = scy(normalized_sentence)\n",
    "        token = scy(normalized_sentence.lower())\n",
    "        self.tokens = token\n",
    "        #self.tokens = [t.lower_ for t in token] \n",
    "        self.tokens_without_stop = [t.lower_ for t in token if not t.is_stop and not t.is_punct]\n",
    "        #self.tokens = [t.lower() for t in nltk.word_tokenize(normalized_sentence)]\n",
    "        #self.tokens_without_stop = [t for t in self.tokens if t not in STOP]"
   ]
  },
  {
   "cell_type": "code",
   "execution_count": 78,
   "id": "36e22280-fd20-4bfd-8eae-8cd5aae3c5e1",
   "metadata": {},
   "outputs": [],
   "source": [
    "class ModelInterface:\n",
    "    def vector(self, text: str) -> list:\n",
    "        \"\"\"Load vector from model.\"\"\"\n",
    "        pass\n",
    "    \n",
    "class Word2VecDE(ModelInterface):  \n",
    "    def __init__(self, model):\n",
    "        self.model = model\n",
    "        self.hit = 0\n",
    "        self.miss = 0\n",
    "        \n",
    "    def vector(self, text):\n",
    "        if str(text).lower() in self.model:  \n",
    "            self.hit += 1\n",
    "            return self.model[str(text).lower()]\n",
    "        else:\n",
    "            self.miss += 1\n",
    "            return np.zeros(300)\n",
    "    \n",
    "class Word2Vec(ModelInterface):  \n",
    "    def __init__(self, model):\n",
    "        self.model = model\n",
    "        \n",
    "    def vector(self, text):   \n",
    "        if str(text).lower() in self.model:  \n",
    "            return self.model[str(text).lower()]\n",
    "        else:\n",
    "            return np.zeros(300)\n",
    "\n",
    "class FastText(ModelInterface):  \n",
    "    def __init__(self, model):\n",
    "        self.model = model\n",
    "        \n",
    "    def vector(self, text):\n",
    "        return self.model.get_word_vector(str(text).lower())\n",
    "    \n",
    "class Spacy(ModelInterface):  \n",
    "    def __init__(self, model):\n",
    "        self.model = model\n",
    "        \n",
    "    def vector(self, text):\n",
    "        return text.vector\n",
    "    \n",
    "class STransformer(ModelInterface):  \n",
    "    def __init__(self, model):\n",
    "        self.model = model\n",
    "        \n",
    "    def vector(self, text):\n",
    "        return self.model.encode(text)"
   ]
  },
  {
   "cell_type": "markdown",
   "id": "bdcf7552-f14e-4ae3-85a1-b334ca531d8a",
   "metadata": {},
   "source": [
    "## Methods"
   ]
  },
  {
   "cell_type": "code",
   "execution_count": 6,
   "id": "engaging-retrieval",
   "metadata": {},
   "outputs": [],
   "source": [
    "def run_avg_benchmark(sentences1, sentences2, model=None, use_stoplist=False): \n",
    "    sims = []\n",
    "    for (sent1, sent2) in zip(sentences1, sentences2):\n",
    "    \n",
    "        tokens1 = sent1.tokens_without_stop if use_stoplist else sent1.tokens\n",
    "        tokens2 = sent2.tokens_without_stop if use_stoplist else sent2.tokens\n",
    "        #print(len(tokens1))\n",
    "        \n",
    "        tokens1 = [model.vector(token) for token in tokens1 if np.linalg.norm(model.vector(token)) > 0]\n",
    "        tokens2 = [model.vector(token) for token in tokens2 if np.linalg.norm(model.vector(token)) > 0]\n",
    "        #print(len(tokens1))\n",
    "        \n",
    "        if len(tokens1) == 0 or len(tokens2) == 0:\n",
    "            sims.append(0)\n",
    "            continue\n",
    "            \n",
    "        embedding1 = np.average(tokens1, axis=0, weights=None).reshape(1, -1)\n",
    "        embedding2 = np.average(tokens2, axis=0, weights=None).reshape(1, -1)\n",
    "        \n",
    "        sim = cosine_similarity(embedding1, embedding2)[0][0]\n",
    "        sims.append(sim)\n",
    "\n",
    "    return sims"
   ]
  },
  {
   "cell_type": "code",
   "execution_count": 7,
   "id": "victorian-equipment",
   "metadata": {},
   "outputs": [],
   "source": [
    "from sklearn.decomposition import TruncatedSVD\n",
    "\n",
    "def remove_first_principal_component(X):\n",
    "    svd = TruncatedSVD(n_components=1, n_iter=7, random_state=0)\n",
    "    svd.fit(X)\n",
    "    pc = svd.components_\n",
    "    XX = X - X.dot(pc.transpose()) * pc\n",
    "    return XX\n",
    "\n",
    "\n",
    "def run_sif_benchmark(sentences1, sentences2, model, use_stoplist=False, freqs={}, a=0.001): \n",
    "    total_freq = sum(freqs.values())\n",
    "    \n",
    "    embeddings = []\n",
    "    \n",
    "    # SIF requires us to first collect all sentence embeddings and then perform \n",
    "    # common component analysis.\n",
    "    for (sent1, sent2) in zip(sentences1, sentences2): \n",
    "        \n",
    "        tokens1 = sent1.tokens_without_stop if use_stoplist else sent1.tokens\n",
    "        tokens2 = sent2.tokens_without_stop if use_stoplist else sent2.tokens\n",
    "        \n",
    "        tokens1 = [model.vector(token) for token in tokens1 if np.linalg.norm(model.vector(token)) > 0]\n",
    "        tokens2 = [model.vector(token) for token in tokens2 if np.linalg.norm(model.vector(token)) > 0]\n",
    "        \n",
    "        #tokens1 = [token for token in tokens1 if token in model]\n",
    "        #tokens2 = [token for token in tokens2 if token in model]\n",
    "        \n",
    "        #weights1 = [a/(a+freqs.get(token,0)/total_freq) for token in tokens1]\n",
    "        #weights2 = [a/(a+freqs.get(token,0)/total_freq) for token in tokens2]\n",
    "        \n",
    "        #embedding1 = np.average([model[token] for token in tokens1], axis=0, weights=weights1)\n",
    "        #embedding2 = np.average([model[token] for token in tokens2], axis=0, weights=weights2)\n",
    "        embedding1 = np.average(tokens1, axis=0, weights=None)\n",
    "        embedding2 = np.average(tokens2, axis=0, weights=None)\n",
    "        \n",
    "        embeddings.append(embedding1)\n",
    "        embeddings.append(embedding2)\n",
    "        \n",
    "    embeddings = remove_first_principal_component(np.array(embeddings))\n",
    "    sims = [cosine_similarity(embeddings[idx*2].reshape(1, -1), \n",
    "                              embeddings[idx*2+1].reshape(1, -1))[0][0] \n",
    "            for idx in range(int(len(embeddings)/2))]\n",
    "\n",
    "    return sims"
   ]
  },
  {
   "cell_type": "code",
   "execution_count": 8,
   "id": "ed8c0de9-2afa-461d-b932-f200970425d5",
   "metadata": {},
   "outputs": [],
   "source": [
    "def run_sentence_experiment(sentences1, sentences2, model=None, use_stoplist=False): \n",
    "    sims = []\n",
    "    for (sent1, sent2) in zip(sentences1, sentences2):\n",
    "        embedding1 = model.vector(sent1.raw).reshape(1, -1)\n",
    "        embedding2 = model.vector(sent2.raw).reshape(1, -1)\n",
    "        \n",
    "        sim = cosine_similarity(embedding1, embedding2)[0][0]\n",
    "        sims.append(sim)\n",
    "\n",
    "    return sims"
   ]
  },
  {
   "cell_type": "code",
   "execution_count": 9,
   "id": "eleven-activity",
   "metadata": {},
   "outputs": [],
   "source": [
    "import scipy\n",
    "def run_experiment(df, benchmarks, scy): \n",
    "    \n",
    "    sentences1 = [Sentence(s, scy) for s in df['sent_1']]\n",
    "    sentences2 = [Sentence(s, scy) for s in df['sent_2']]\n",
    "    \n",
    "    result = []\n",
    "    for label, method in benchmarks:\n",
    "        sims = method(sentences1, sentences2)\n",
    "        #print(label, sims)\n",
    "        \n",
    "        if 'sim' in df.columns:\n",
    "            pearson_correlation = scipy.stats.pearsonr(sims, df['sim'])[0]\n",
    "            spearman_correlation = scipy.stats.spearmanr(sims, df['sim'])[0]\n",
    "            print(label, pearson_correlation)\n",
    "            result.append((label,pearson_correlation,spearman_correlation))\n",
    "        else:\n",
    "            print(label, 'Average: ', sum(sims) / len(sims), sims)\n",
    "             \n",
    "    return result"
   ]
  },
  {
   "cell_type": "markdown",
   "id": "de66a105-64ab-4021-8014-b5447c911da2",
   "metadata": {},
   "source": [
    "## Benchmarks"
   ]
  },
  {
   "cell_type": "code",
   "execution_count": 10,
   "id": "2268e50a-2044-4fd1-ae20-cc1a168595d1",
   "metadata": {},
   "outputs": [],
   "source": [
    "import glob\n",
    "import itertools\n",
    "\n",
    "def loadFiles(path, file):\n",
    "    filelist = sorted(glob.glob(path+'/'+file))\n",
    "    data = []\n",
    "    for file in filelist:\n",
    "        with open(file, 'r') as file:\n",
    "            data.append(file.read().replace('\\n', ' ').strip())\n",
    "    return data\n",
    "\n",
    "def loadGermanParaphraseCorpus(path):\n",
    "    lowParaphrased = loadFiles('german_paraphrase_corpus', 'Baumkuchen_Ohne_Historie_PB*.txt')\n",
    "    highParaphrased = loadFiles('german_paraphrase_corpus', 'Baumkuchen_Ohne_Historie_PH*.txt')\n",
    "    notParaphrased = loadFiles('german_paraphrase_corpus', 'Baumkuchen_WWW_*.txt')\n",
    "    assert(len(lowParaphrased) == 5)\n",
    "    assert(len(highParaphrased) == 5)\n",
    "    assert(len(notParaphrased) == 12)\n",
    "    \n",
    "    lowParaphrasedCorpus = pd.DataFrame(itertools.permutations(lowParaphrased, 2), columns=['sent_1','sent_2'])\n",
    "    highParaphrasedCorpus = pd.DataFrame(itertools.permutations(highParaphrased, 2), columns=['sent_1','sent_2'])\n",
    "    notParaphrasedCorpus = pd.DataFrame(itertools.permutations(notParaphrased, 2), columns=['sent_1','sent_2'])\n",
    "\n",
    "    return lowParaphrasedCorpus, highParaphrasedCorpus, notParaphrasedCorpus                                                                                         "
   ]
  },
  {
   "cell_type": "code",
   "execution_count": 82,
   "id": "90c2a700-63e0-4be9-a2ed-629812a98089",
   "metadata": {},
   "outputs": [
    {
     "data": {
      "text/html": [
       "<div>\n",
       "<style scoped>\n",
       "    .dataframe tbody tr th:only-of-type {\n",
       "        vertical-align: middle;\n",
       "    }\n",
       "\n",
       "    .dataframe tbody tr th {\n",
       "        vertical-align: top;\n",
       "    }\n",
       "\n",
       "    .dataframe thead th {\n",
       "        text-align: right;\n",
       "    }\n",
       "</style>\n",
       "<table border=\"1\" class=\"dataframe\">\n",
       "  <thead>\n",
       "    <tr style=\"text-align: right;\">\n",
       "      <th></th>\n",
       "      <th>sent_1</th>\n",
       "      <th>sent_2</th>\n",
       "    </tr>\n",
       "  </thead>\n",
       "  <tbody>\n",
       "    <tr>\n",
       "      <th>0</th>\n",
       "      <td>Der Baumkuchen ist ein schichtweise aufgebaute...</td>\n",
       "      <td>Der Baumkuchen ist ein über offener Flamme geb...</td>\n",
       "    </tr>\n",
       "    <tr>\n",
       "      <th>1</th>\n",
       "      <td>Der Baumkuchen ist ein schichtweise aufgebaute...</td>\n",
       "      <td>Der Baumkuchen ist über offener Flamme gebacke...</td>\n",
       "    </tr>\n",
       "    <tr>\n",
       "      <th>2</th>\n",
       "      <td>Der Baumkuchen ist ein schichtweise aufgebaute...</td>\n",
       "      <td>Baumkuchen ist eine in Schichten  aufgebaute u...</td>\n",
       "    </tr>\n",
       "    <tr>\n",
       "      <th>3</th>\n",
       "      <td>Der Baumkuchen ist ein schichtweise aufgebaute...</td>\n",
       "      <td>Der Baumkuchen ist ein Kuchen,  der schichtwei...</td>\n",
       "    </tr>\n",
       "    <tr>\n",
       "      <th>4</th>\n",
       "      <td>Der Baumkuchen ist ein über offener Flamme geb...</td>\n",
       "      <td>Der Baumkuchen ist ein schichtweise aufgebaute...</td>\n",
       "    </tr>\n",
       "  </tbody>\n",
       "</table>\n",
       "</div>"
      ],
      "text/plain": [
       "                                              sent_1  \\\n",
       "0  Der Baumkuchen ist ein schichtweise aufgebaute...   \n",
       "1  Der Baumkuchen ist ein schichtweise aufgebaute...   \n",
       "2  Der Baumkuchen ist ein schichtweise aufgebaute...   \n",
       "3  Der Baumkuchen ist ein schichtweise aufgebaute...   \n",
       "4  Der Baumkuchen ist ein über offener Flamme geb...   \n",
       "\n",
       "                                              sent_2  \n",
       "0  Der Baumkuchen ist ein über offener Flamme geb...  \n",
       "1  Der Baumkuchen ist über offener Flamme gebacke...  \n",
       "2  Baumkuchen ist eine in Schichten  aufgebaute u...  \n",
       "3  Der Baumkuchen ist ein Kuchen,  der schichtwei...  \n",
       "4  Der Baumkuchen ist ein schichtweise aufgebaute...  "
      ]
     },
     "execution_count": 82,
     "metadata": {},
     "output_type": "execute_result"
    }
   ],
   "source": [
    "lowParaphrasedCorpus, highParaphrasedCorpus, notParaphrasedCorpus = loadGermanParaphraseCorpus('german_paraphrase_corpus')\n",
    "lowParaphrasedCorpus[:5]"
   ]
  },
  {
   "cell_type": "code",
   "execution_count": 12,
   "id": "39f0c13b-6332-4517-8a63-98b5531cabf4",
   "metadata": {},
   "outputs": [],
   "source": [
    "def load_sts_dataset(filename, sent1, sent2, sim):\n",
    "    # Loads a subset of the STS dataset into a DataFrame. In particular both\n",
    "    # sentences and their human rated similarity score.\n",
    "    sent_pairs = []\n",
    "    with open(filename, 'r') as f:\n",
    "        for line in f:\n",
    "            ts = line.strip().split(\"\\t\")\n",
    "            sent_pairs.append((ts[sent1], ts[sent2], float(ts[sim])))\n",
    "    return pd.DataFrame(sent_pairs, columns=[\"sent_1\", \"sent_2\", \"sim\"])\n",
    "\n",
    "sts_de_dev = load_sts_dataset(\"german-STSbenchmark/data/deepl/stsb_de_dev.csv\", 1, 2, 0)\n",
    "sts_de_test = load_sts_dataset(\"german-STSbenchmark/data/deepl/stsb_de_test.csv\", 1, 2, 0)\n",
    "\n",
    "sts_en_dev = load_sts_dataset(\"stsbenchmark/sts-dev.csv\", 5, 6, 4)\n",
    "sts_en_test = load_sts_dataset(\"stsbenchmark/sts-test.csv\", 5, 6, 4)"
   ]
  },
  {
   "cell_type": "code",
   "execution_count": 13,
   "id": "59fb9597-4068-4a37-9791-810c2a9454bd",
   "metadata": {},
   "outputs": [
    {
     "data": {
      "text/html": [
       "<div>\n",
       "<style scoped>\n",
       "    .dataframe tbody tr th:only-of-type {\n",
       "        vertical-align: middle;\n",
       "    }\n",
       "\n",
       "    .dataframe tbody tr th {\n",
       "        vertical-align: top;\n",
       "    }\n",
       "\n",
       "    .dataframe thead th {\n",
       "        text-align: right;\n",
       "    }\n",
       "</style>\n",
       "<table border=\"1\" class=\"dataframe\">\n",
       "  <thead>\n",
       "    <tr style=\"text-align: right;\">\n",
       "      <th></th>\n",
       "      <th>sent_1</th>\n",
       "      <th>sent_2</th>\n",
       "      <th>sim</th>\n",
       "    </tr>\n",
       "  </thead>\n",
       "  <tbody>\n",
       "    <tr>\n",
       "      <th>0</th>\n",
       "      <td>Ein Mann mit einem Schutzhelm tanzt.</td>\n",
       "      <td>Ein Mann mit einem Schutzhelm tanzt.</td>\n",
       "      <td>5.00</td>\n",
       "    </tr>\n",
       "    <tr>\n",
       "      <th>1</th>\n",
       "      <td>Ein kleines Kind reitet auf einem Pferd.</td>\n",
       "      <td>Ein Kind reitet auf einem Pferd.</td>\n",
       "      <td>4.75</td>\n",
       "    </tr>\n",
       "    <tr>\n",
       "      <th>2</th>\n",
       "      <td>Ein Mann verfüttert eine Maus an eine Schlange.</td>\n",
       "      <td>Der Mann füttert die Schlange mit einer Maus.</td>\n",
       "      <td>5.00</td>\n",
       "    </tr>\n",
       "    <tr>\n",
       "      <th>3</th>\n",
       "      <td>Eine Frau spielt Gitarre.</td>\n",
       "      <td>Ein Mann spielt Gitarre.</td>\n",
       "      <td>2.40</td>\n",
       "    </tr>\n",
       "    <tr>\n",
       "      <th>4</th>\n",
       "      <td>Eine Frau spielt Flöte.</td>\n",
       "      <td>Ein Mann spielt eine Flöte.</td>\n",
       "      <td>2.75</td>\n",
       "    </tr>\n",
       "  </tbody>\n",
       "</table>\n",
       "</div>"
      ],
      "text/plain": [
       "                                            sent_1  \\\n",
       "0             Ein Mann mit einem Schutzhelm tanzt.   \n",
       "1         Ein kleines Kind reitet auf einem Pferd.   \n",
       "2  Ein Mann verfüttert eine Maus an eine Schlange.   \n",
       "3                        Eine Frau spielt Gitarre.   \n",
       "4                          Eine Frau spielt Flöte.   \n",
       "\n",
       "                                          sent_2   sim  \n",
       "0           Ein Mann mit einem Schutzhelm tanzt.  5.00  \n",
       "1               Ein Kind reitet auf einem Pferd.  4.75  \n",
       "2  Der Mann füttert die Schlange mit einer Maus.  5.00  \n",
       "3                       Ein Mann spielt Gitarre.  2.40  \n",
       "4                    Ein Mann spielt eine Flöte.  2.75  "
      ]
     },
     "execution_count": 13,
     "metadata": {},
     "output_type": "execute_result"
    }
   ],
   "source": [
    "sts_de_dev[:5]"
   ]
  },
  {
   "cell_type": "markdown",
   "id": "9bf0606d-6901-4fcf-99a7-eaec07bc3734",
   "metadata": {},
   "source": [
    "## Models"
   ]
  },
  {
   "cell_type": "code",
   "execution_count": 14,
   "id": "piano-darwin",
   "metadata": {},
   "outputs": [],
   "source": [
    "import spacy\n",
    "scy_de = spacy.load(\"de_core_news_lg\")\n",
    "scy_en = spacy.load(\"en_core_web_lg\")"
   ]
  },
  {
   "cell_type": "code",
   "execution_count": 15,
   "id": "informal-advertising",
   "metadata": {},
   "outputs": [
    {
     "data": {
      "text/html": [
       "<div>\n",
       "<style scoped>\n",
       "    .dataframe tbody tr th:only-of-type {\n",
       "        vertical-align: middle;\n",
       "    }\n",
       "\n",
       "    .dataframe tbody tr th {\n",
       "        vertical-align: top;\n",
       "    }\n",
       "\n",
       "    .dataframe thead th {\n",
       "        text-align: right;\n",
       "    }\n",
       "</style>\n",
       "<table border=\"1\" class=\"dataframe\">\n",
       "  <thead>\n",
       "    <tr style=\"text-align: right;\">\n",
       "      <th></th>\n",
       "      <th>sent_1</th>\n",
       "      <th>sent_2</th>\n",
       "    </tr>\n",
       "  </thead>\n",
       "  <tbody>\n",
       "    <tr>\n",
       "      <th>0</th>\n",
       "      <td>Die ursprünglichen Bewohner des Landes, die In...</td>\n",
       "      <td>Die ursprünglichen Bewohner des Landes, die In...</td>\n",
       "    </tr>\n",
       "    <tr>\n",
       "      <th>1</th>\n",
       "      <td>Der Baumkuchen ist ein Kuchen, der schichtweis...</td>\n",
       "      <td>Im folgenden wird die Geschichte des Baumkuche...</td>\n",
       "    </tr>\n",
       "    <tr>\n",
       "      <th>2</th>\n",
       "      <td>Guten morgen heute habe ich gut geschlafen.</td>\n",
       "      <td>Das Essen hat sehr gut geschmeckt.</td>\n",
       "    </tr>\n",
       "  </tbody>\n",
       "</table>\n",
       "</div>"
      ],
      "text/plain": [
       "                                              sent_1  \\\n",
       "0  Die ursprünglichen Bewohner des Landes, die In...   \n",
       "1  Der Baumkuchen ist ein Kuchen, der schichtweis...   \n",
       "2        Guten morgen heute habe ich gut geschlafen.   \n",
       "\n",
       "                                              sent_2  \n",
       "0  Die ursprünglichen Bewohner des Landes, die In...  \n",
       "1  Im folgenden wird die Geschichte des Baumkuche...  \n",
       "2                 Das Essen hat sehr gut geschmeckt.  "
      ]
     },
     "execution_count": 15,
     "metadata": {},
     "output_type": "execute_result"
    }
   ],
   "source": [
    "import pandas as pd\n",
    "\n",
    "d = {'sent_1': [\"Die ursprünglichen Bewohner des Landes, die Indianer, stellen heute nur noch rund ein Prozent der Bevölkerung.\", \"Der Baumkuchen ist ein Kuchen, der schichtweise aufgebaut ist  und der über offener Flamme gebacken wird. Im folgenden wird die Geschichte des Baumkuchens erzählt, die Herstellungsmethoden im Laufe der Jahrhunderte verglichen und seine geographische Verbreitung beschrieben.\", \"Guten morgen heute habe ich gut geschlafen.\"], 'sent_2': [\"Die ursprünglichen Bewohner des Landes, die Indianer, stellen heute nur noch rund ein Prozent der Bevölkerung.\", \"Im folgenden wird die Geschichte des Baumkuchens erzählt, die Herstellungsmethoden im Laufe der Jahrhunderte verglichen und seine geographische Verbreitung beschrieben. Baumkuchen ist vermutlich das weltweit am besten bekannte Gebäck aus Deutschland und wird wegen seines feinen Geschmacks auf mehreren Kontinenten gerne verzehrt.\", 'Das Essen hat sehr gut geschmeckt.']}\n",
    "testdata = pd.DataFrame(data=d)\n",
    "testdata"
   ]
  },
  {
   "cell_type": "code",
   "execution_count": 16,
   "id": "bcd286b1-0735-43b2-a6fa-d47484571ccf",
   "metadata": {},
   "outputs": [
    {
     "name": "stderr",
     "output_type": "stream",
     "text": [
      "/Users/tobias/web/studium/similarity/myenv/lib/python3.9/site-packages/gensim/similarities/__init__.py:15: UserWarning: The gensim.similarities.levenshtein submodule is disabled, because the optional Levenshtein package <https://pypi.org/project/python-Levenshtein/> is unavailable. Install Levenhstein (e.g. `pip install python-Levenshtein`) to suppress this warning.\n",
      "  warnings.warn(msg)\n"
     ]
    }
   ],
   "source": [
    "import gensim\n",
    "import os\n",
    "from gensim.models import Word2Vec\n",
    "from gensim.scripts.glove2word2vec import glove2word2vec\n",
    "\n",
    "PATH_TO_WORD2VEC = os.path.expanduser(\"word2vec/GoogleNews-vectors-negative300.bin\")\n",
    "word2vec = gensim.models.KeyedVectors.load_word2vec_format(PATH_TO_WORD2VEC, binary=True)"
   ]
  },
  {
   "cell_type": "code",
   "execution_count": 17,
   "id": "3fd1dcf2-febf-42b0-8edb-32195e241238",
   "metadata": {},
   "outputs": [],
   "source": [
    "import csv\n",
    "import ast\n",
    "#word2vec_de = gensim.models.KeyedVectors.load_word2vec_format('word2vec/vectors.txt', fvocab='word2vec/vocab.txt', binary=False)\n",
    "\n",
    "PATH_TO_WORD2VEC_DE = os.path.expanduser(\"word2vec/vectors.txt\")\n",
    "\n",
    "with open(PATH_TO_WORD2VEC_DE) as file_in:\n",
    "    reader = csv.reader(file_in, delimiter=\" \")\n",
    "    word2vec_de = {ast.literal_eval(word).decode(): np.array(vect, dtype=np.float64) for word, *vect in reader}"
   ]
  },
  {
   "cell_type": "code",
   "execution_count": 18,
   "id": "russian-butler",
   "metadata": {},
   "outputs": [
    {
     "name": "stderr",
     "output_type": "stream",
     "text": [
      "Warning : `load_model` does not return WordVectorModel or SupervisedModel any more, but a `FastText` object which is very similar.\n"
     ]
    }
   ],
   "source": [
    "import fasttext\n",
    "fasttext = fasttext.load_model('cc.de.300.bin')"
   ]
  },
  {
   "cell_type": "code",
   "execution_count": 19,
   "id": "former-cause",
   "metadata": {},
   "outputs": [],
   "source": [
    "from sentence_transformers import SentenceTransformer\n",
    "mpnet = SentenceTransformer(\"sentence-transformers/paraphrase-multilingual-mpnet-base-v2\")"
   ]
  },
  {
   "cell_type": "markdown",
   "id": "235e61b2-0d32-4baa-8a91-9f77015c4874",
   "metadata": {},
   "source": [
    "## Experiments"
   ]
  },
  {
   "cell_type": "code",
   "execution_count": 79,
   "id": "29aa7710-3b02-4b5c-9a5c-e97bb9dfbbcb",
   "metadata": {},
   "outputs": [],
   "source": [
    "benchmarks_en = [\n",
    "    (\"AVG-WORD-W2V\", ft.partial(run_avg_benchmark, model=Word2Vec(word2vec), use_stoplist=False)),\n",
    "    (\"SIF-WORD-W2V\", ft.partial(run_sif_benchmark, model=Word2Vec(word2vec), use_stoplist=False)),\n",
    "    (\"SPACY-WORD\", ft.partial(run_avg_benchmark, model=Spacy(scy_en), use_stoplist=False)),\n",
    "    (\"MPNET-SENT\", ft.partial(run_sentence_experiment, model=STransformer(mpnet), use_stoplist=False))\n",
    "]"
   ]
  },
  {
   "cell_type": "code",
   "execution_count": 22,
   "id": "88892cda-11a8-4b68-9089-a1aa6105468c",
   "metadata": {},
   "outputs": [],
   "source": [
    "benchmarks_de = [\n",
    "    (\"AVG-WORD-W2V\", ft.partial(run_avg_benchmark, model=Word2VecDE(word2vec_de), use_stoplist=False)),\n",
    "    (\"AVG-WORD-W2V-STOP\", ft.partial(run_avg_benchmark, model=Word2VecDE(word2vec_de), use_stoplist=True)),\n",
    "    (\"AVG-WORD-FT\", ft.partial(run_avg_benchmark, model=FastText(fasttext), use_stoplist=False)),\n",
    "    (\"AVG-WORD-FT-STOP\", ft.partial(run_avg_benchmark, model=FastText(fasttext), use_stoplist=True)),\n",
    "    (\"AVG-SENT-FT\", ft.partial(run_sentence_experiment, model=FastText(fasttext), use_stoplist=False)),\n",
    "    (\"SIF-WORD-W2V\", ft.partial(run_sif_benchmark, model=Word2VecDE(word2vec_de), use_stoplist=False)),\n",
    "    #(\"SIF-WORD-W2V-STOP\", ft.partial(run_sif_benchmark, model=Word2VecDE(word2vec_de), use_stoplist=True)),\n",
    "    (\"SIF-WORD-FT\", ft.partial(run_sif_benchmark, model=FastText(fasttext), use_stoplist=False)),\n",
    "    (\"SPACY-WORD\", ft.partial(run_avg_benchmark, model=Spacy(scy_de), use_stoplist=False)),\n",
    "    (\"MPNET-SENT\", ft.partial(run_sentence_experiment, model=STransformer(mpnet), use_stoplist=False))\n",
    "]"
   ]
  },
  {
   "cell_type": "code",
   "execution_count": 80,
   "id": "338f2356-c13a-4019-a94c-6b8222531756",
   "metadata": {
    "scrolled": true,
    "tags": []
   },
   "outputs": [
    {
     "name": "stdout",
     "output_type": "stream",
     "text": [
      "AVG-WORD-W2V 0.46925698629470386\n",
      "AVG-WORD-W2V-STOP 0.34957657112062346\n",
      "AVG-WORD-FT 0.2537352659363618\n",
      "AVG-WORD-FT-STOP 0.4095159416493752\n",
      "AVG-SENT-FT 0.5112796352967722\n",
      "SIF-WORD-W2V 0.5056840169156406\n",
      "SIF-WORD-FT 0.3844519834014425\n",
      "SPACY-WORD 0.25980634792717916\n",
      "MPNET-SENT 0.8193534938472506\n"
     ]
    }
   ],
   "source": [
    "benchmark_results = {}\n",
    "benchmark_results[\"STS-DE-TEST\"] = run_experiment(sts_de_test, benchmarks_de, scy_de)"
   ]
  },
  {
   "cell_type": "code",
   "execution_count": 81,
   "id": "7f855485-5c45-43bb-9309-43459aed5be0",
   "metadata": {},
   "outputs": [
    {
     "name": "stdout",
     "output_type": "stream",
     "text": [
      "AVG-WORD-W2V 0.6227166890980458\n",
      "SIF-WORD-W2V 0.6674557568734617\n",
      "SPACY-WORD 0.42216729387877655\n",
      "MPNET-SENT 0.8543448183405837\n"
     ]
    }
   ],
   "source": [
    "benchmark_results[\"STS-EN-TEST\"] = run_experiment(sts_en_test, benchmarks_en, scy_en)"
   ]
  },
  {
   "cell_type": "raw",
   "id": "c289db72-bcf7-4caf-a6fd-e577ffc32974",
   "metadata": {},
   "source": [
    "run_experiment(lowParaphrasedCorpus, [\n",
    "    (\"AVG-WORD-FT\", ft.partial(run_avg_benchmark, model=FastText(fasttext), use_stoplist=False)),\n",
    "    (\"AVG-SENT-FT\", ft.partial(run_sentence_experiment, model=FastText(fasttext), use_stoplist=False)),\n",
    "    (\"SIF-WORD-FT\", ft.partial(run_sif_benchmark, model=FastText(fasttext), use_stoplist=False)),\n",
    "    (\"SPACY-WORD\", ft.partial(run_avg_benchmark, model=Spacy(nlp), use_stoplist=False)),\n",
    "    (\"MPNET-SENT\", ft.partial(run_sentence_experiment, model=STransformer(mpnet), use_stoplist=False))\n",
    "], scy_de)\n",
    "\n",
    "run_experiment(highParaphrasedCorpus, [\n",
    "    (\"AVG-WORD-FT\", ft.partial(run_avg_benchmark, model=FastText(fasttext), use_stoplist=False)),\n",
    "    (\"AVG-SENT-FT\", ft.partial(run_sentence_experiment, model=FastText(fasttext), use_stoplist=False)),\n",
    "    (\"SIF-WORD-FT\", ft.partial(run_sif_benchmark, model=FastText(fasttext), use_stoplist=False)),\n",
    "    (\"SPACY-WORD\", ft.partial(run_avg_benchmark, model=Spacy(nlp), use_stoplist=False)),\n",
    "    (\"MPNET-SENT\", ft.partial(run_sentence_experiment, model=STransformer(mpnet), use_stoplist=False))\n",
    "], scy_de)\n",
    "\n",
    "run_experiment(notParaphrasedCorpus, [\n",
    "    (\"AVG-WORD-FT\", ft.partial(run_avg_benchmark, model=FastText(fasttext), use_stoplist=False)),\n",
    "    (\"AVG-SENT-FT\", ft.partial(run_sentence_experiment, model=FastText(fasttext), use_stoplist=False)),\n",
    "    (\"SIF-WORD-FT\", ft.partial(run_sif_benchmark, model=FastText(fasttext), use_stoplist=False)),\n",
    "    (\"SPACY-WORD\", ft.partial(run_avg_benchmark, model=Spacy(nlp), use_stoplist=False)),\n",
    "    (\"MPNET-SENT\", ft.partial(run_sentence_experiment, model=STransformer(mpnet), use_stoplist=False))\n",
    "], scy_de)"
   ]
  },
  {
   "cell_type": "markdown",
   "id": "70481dc7-2933-4c11-a7cc-b7defd4ef61e",
   "metadata": {},
   "source": [
    "### Results"
   ]
  },
  {
   "cell_type": "code",
   "execution_count": 139,
   "id": "46e1fd05-48a2-4e26-81d7-b1f7c1d286b5",
   "metadata": {},
   "outputs": [],
   "source": [
    "def plot_benchmark(data, figsize=(20, 10)):\n",
    "    benchmark_results_pd = pd.DataFrame(data,columns=['label','pearson_correlation','spearman_correlation'])\n",
    "    \n",
    "    sns.set_color_codes(\"pastel\")\n",
    "    sns.set(font_scale = 1.2)\n",
    "    f, ax = plt.subplots(figsize=figsize)\n",
    "    sns.barplot(x=\"label\", y=\"pearson_correlation\", data=benchmark_results_pd)\n",
    "    ax.set(ylabel=\"Pearson's correlation\", xlabel=\"\")"
   ]
  },
  {
   "cell_type": "code",
   "execution_count": 140,
   "id": "69cc7e52-49c0-4dcb-a238-ad3808ed4311",
   "metadata": {},
   "outputs": [
    {
     "data": {
      "image/png": "[encoded data removed]",
      "text/plain": [
       "<Figure size 1440x720 with 1 Axes>"
      ]
     },
     "metadata": {},
     "output_type": "display_data"
    },
    {
     "data": {
      "image/png": "[encoded data removed]",
      "text/plain": [
       "<Figure size 576x720 with 1 Axes>"
      ]
     },
     "metadata": {},
     "output_type": "display_data"
    }
   ],
   "source": [
    "plot_benchmark(benchmark_results[\"STS-DE-TEST\"])\n",
    "plot_benchmark(benchmark_results[\"STS-EN-TEST\"], (8,10))"
   ]
  }
 ],
 "metadata": {
  "kernelspec": {
   "display_name": "myenv",
   "language": "python",
   "name": "myenv"
  },
  "language_info": {
   "codemirror_mode": {
    "name": "ipython",
    "version": 3
   },
   "file_extension": ".py",
   "mimetype": "text/x-python",
   "name": "python",
   "nbconvert_exporter": "python",
   "pygments_lexer": "ipython3",
   "version": "3.9.4"
  }
 },
 "nbformat": 4,
 "nbformat_minor": 5
}
